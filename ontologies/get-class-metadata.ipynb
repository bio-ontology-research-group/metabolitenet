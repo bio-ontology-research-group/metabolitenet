{
 "cells": [
  {
   "cell_type": "code",
   "execution_count": 1,
   "metadata": {},
   "outputs": [],
   "source": [
    "#!groovy"
   ]
  },
  {
   "cell_type": "code",
   "execution_count": 2,
   "metadata": {},
   "outputs": [],
   "source": [
    "\n",
    "// Download dependencies using Groovy's Grape system\n",
    "import groovy.grape.Grape\n",
    "Grape.grab(group:'org.semanticweb.elk', module:'elk-owlapi', version:'0.4.3')\n",
    "Grape.grab(group:'net.sourceforge.owlapi', module:'owlapi-api', version:'4.2.5')\n",
    "Grape.grab(group:'net.sourceforge.owlapi', module:'owlapi-apibinding', version:'4.2.5')\n",
    "Grape.grab(group:'net.sourceforge.owlapi', module:'owlapi-impl', version:'4.2.5')\n",
    "Grape.grab(group:'com.github.sharispe', module:'slib-sml', version:'0.9.1')\n",
    "Grape.grab(group:'net.sourceforge.owlapi', module:'owlapi-parsers', version:'4.2.5')"
   ]
  },
  {
   "cell_type": "markdown",
   "metadata": {},
   "source": [
    "# Class metadata parser\n",
    "\n",
    "This notebook is intended to parse ID, name and synonyms for each class in the owl ontology input.\n",
    "\n",
    "## DOID"
   ]
  },
  {
   "cell_type": "code",
   "execution_count": 15,
   "metadata": {},
   "outputs": [
    {
     "name": "stderr",
     "output_type": "stream",
     "text": [
      "[SciJava-29073b67-Thread-org.scijava.jupyter.kernel.evaluator.ScijavaEvaluator] INFO org.semanticweb.owlapi.io.AbstractOWLParser - URL connection input stream is compressed using gzip\n",
      "[SciJava-29073b67-Thread-org.scijava.jupyter.kernel.evaluator.ScijavaEvaluator] INFO org.semanticweb.owlapi.io.AbstractOWLParser - URL connection input stream is compressed using gzip\n",
      "[SciJava-29073b67-Thread-org.scijava.jupyter.kernel.evaluator.ScijavaEvaluator] INFO org.semanticweb.owlapi.io.AbstractOWLParser - URL connection input stream is compressed using gzip\n",
      "[SciJava-29073b67-Thread-org.scijava.jupyter.kernel.evaluator.ScijavaEvaluator] INFO org.semanticweb.owlapi.io.AbstractOWLParser - URL connection input stream is compressed using gzip\n",
      "[SciJava-29073b67-Thread-org.scijava.jupyter.kernel.evaluator.ScijavaEvaluator] INFO org.semanticweb.owlapi.io.AbstractOWLParser - URL connection input stream is compressed using gzip\n",
      "[SciJava-29073b67-Thread-org.scijava.jupyter.kernel.evaluator.ScijavaEvaluator] INFO org.semanticweb.owlapi.io.AbstractOWLParser - URL connection input stream is compressed using gzip\n",
      "[SciJava-29073b67-Thread-org.scijava.jupyter.kernel.evaluator.ScijavaEvaluator] INFO org.semanticweb.owlapi.io.AbstractOWLParser - URL connection input stream is compressed using gzip\n",
      "[SciJava-29073b67-Thread-org.scijava.jupyter.kernel.evaluator.ScijavaEvaluator] INFO org.semanticweb.owlapi.io.AbstractOWLParser - URL connection input stream is compressed using gzip\n",
      "[SciJava-29073b67-Thread-org.scijava.jupyter.kernel.evaluator.ScijavaEvaluator] INFO org.semanticweb.owlapi.io.AbstractOWLParser - URL connection input stream is compressed using gzip\n",
      "[SciJava-29073b67-Thread-org.scijava.jupyter.kernel.evaluator.ScijavaEvaluator] INFO org.semanticweb.owlapi.io.AbstractOWLParser - URL connection input stream is compressed using gzip\n",
      "[SciJava-29073b67-Thread-org.scijava.jupyter.kernel.evaluator.ScijavaEvaluator] INFO org.semanticweb.owlapi.io.AbstractOWLParser - URL connection input stream is compressed using gzip\n",
      "[SciJava-29073b67-Thread-org.scijava.jupyter.kernel.evaluator.ScijavaEvaluator] INFO org.semanticweb.owlapi.io.AbstractOWLParser - URL connection input stream is compressed using gzip\n",
      "[SciJava-29073b67-Thread-org.scijava.jupyter.kernel.evaluator.ScijavaEvaluator] INFO org.semanticweb.owlapi.io.AbstractOWLParser - URL connection input stream is compressed using gzip\n",
      "[SciJava-29073b67-Thread-org.scijava.jupyter.kernel.evaluator.ScijavaEvaluator] INFO org.semanticweb.owlapi.io.AbstractOWLParser - URL connection input stream is compressed using gzip\n",
      "[SciJava-29073b67-Thread-org.scijava.jupyter.kernel.evaluator.ScijavaEvaluator] INFO org.semanticweb.owlapi.io.AbstractOWLParser - URL connection input stream is compressed using gzip\n",
      "[SciJava-29073b67-Thread-org.scijava.jupyter.kernel.evaluator.ScijavaEvaluator] INFO org.semanticweb.owlapi.io.AbstractOWLParser - URL connection input stream is compressed using gzip\n",
      "[SciJava-29073b67-Thread-org.scijava.jupyter.kernel.evaluator.ScijavaEvaluator] INFO org.semanticweb.owlapi.io.AbstractOWLParser - URL connection input stream is compressed using gzip\n"
     ]
    },
    {
     "name": "stdout",
     "output_type": "stream",
     "text": [
      "finished parsing\n",
      "\n",
      "[]\n"
     ]
    }
   ],
   "source": [
    "// import what we need\n",
    "import java.net.*\n",
    "import org.semanticweb.owlapi.model.parameters.*\n",
    "import org.semanticweb.elk.owlapi.ElkReasonerFactory;\n",
    "import org.semanticweb.elk.owlapi.ElkReasonerConfiguration\n",
    "import org.semanticweb.elk.reasoner.config.*\n",
    "import org.semanticweb.owlapi.apibinding.OWLManager;\n",
    "import org.semanticweb.owlapi.reasoner.*\n",
    "import org.semanticweb.owlapi.reasoner.structural.StructuralReasoner\n",
    "import org.semanticweb.owlapi.vocab.OWLRDFVocabulary;\n",
    "import org.semanticweb.owlapi.model.*;\n",
    "import org.semanticweb.owlapi.io.*;\n",
    "import org.semanticweb.owlapi.owllink.*;\n",
    "import org.semanticweb.owlapi.util.*;\n",
    "import org.semanticweb.owlapi.search.*;\n",
    "import org.semanticweb.owlapi.manchestersyntax.renderer.*;\n",
    "import org.semanticweb.owlapi.reasoner.structural.*\n",
    "\n",
    "\n",
    "// define variables\n",
    "Map<String, Set<String>> id2name = [:].withDefault { new TreeSet() }\n",
    "Map<String, Set<String>> id2syn = [:].withDefault { new TreeSet() }\n",
    "\n",
    "// create parser function\n",
    "def id = \"\"\n",
    "OWLOntologyManager manager = OWLManager.createOWLOntologyManager()  \n",
    "OWLDataFactory fac = manager.getOWLDataFactory()\n",
    "\n",
    " def parseOntologies = { ontUriOrfile -> \n",
    "\n",
    "  ontologyfile = manager.loadOntologyFromOntologyDocument(ontUriOrfile)\n",
    "\n",
    "  ontologyfile.getClassesInSignature(true).each {\n",
    "   cl ->\n",
    "    class_ = cl.toString()\n",
    "    id = class_.substring(class_.lastIndexOf('/')+1,class_.length()-1).replaceAll('_',':')\n",
    "    EntitySearcher.getAnnotationObjects(cl, ontologyfile, fac.getRDFSLabel()).each {\n",
    "     lab ->\n",
    "      if (lab.getValue() instanceof OWLLiteral) {\n",
    "       def labs = (OWLLiteral) lab.getValue()\n",
    "       name = labs.getLiteral().trim().toLowerCase()\n",
    "       id2name[id].add(name)\n",
    "      }\n",
    "    }\n",
    "\n",
    "    EntitySearcher.getAnnotationAssertionAxioms(cl, ontologyfile).each {\n",
    "      ax ->\n",
    "       if (ax.getProperty().toString() == \"<http://www.geneontology.org/formats/oboInOwl#hasDbXref>\") {\n",
    "          if (ax.getValue()!= null && ax.getValue()!= [] && !(ax.getValue() instanceof IRI)){\n",
    "            def syn = ax.getValue()\n",
    "            if(!(ax.getValue() instanceof String) ){\n",
    "              syn = ax.getValue().getLiteral()\n",
    "            }\n",
    "            id2syn[id].add(syn)    \n",
    "          }\n",
    "          \n",
    "       }else if(ax.getProperty().toString() == \"<http://www.geneontology.org/formats/oboInOwl#hasExactSynonym>\"){\n",
    "          if (ax.getValue()!= null && ax.getValue()!= [] && !(ax.getValue() instanceof IRI)){\n",
    "            def syn = ax.getValue()\n",
    "            if(!(ax.getValue() instanceof String) ){\n",
    "              syn = ax.getValue().getLiteral()\n",
    "            }\n",
    "            id2syn[id].add(syn)\n",
    "          }\n",
    "       }\n",
    "    }\n",
    "  }\n",
    "     \n",
    "  println \"finished parsing\\n\"\n",
    " }\n",
    "     \n",
    "// Parse ontologies\n",
    "parseOntologies(IRI.create(\"http://purl.obolibrary.org/obo/doid.owl\"))\n",
    "    \n",
    "// write out metadata     \n",
    "println id2name.get(1)"
   ]
  },
  {
   "cell_type": "code",
   "execution_count": null,
   "metadata": {},
   "outputs": [],
   "source": []
  },
  {
   "cell_type": "code",
   "execution_count": null,
   "metadata": {},
   "outputs": [],
   "source": []
  },
  {
   "cell_type": "code",
   "execution_count": null,
   "metadata": {},
   "outputs": [],
   "source": []
  },
  {
   "cell_type": "code",
   "execution_count": null,
   "metadata": {},
   "outputs": [],
   "source": []
  },
  {
   "cell_type": "code",
   "execution_count": null,
   "metadata": {},
   "outputs": [],
   "source": []
  }
 ],
 "metadata": {
  "kernelspec": {
   "display_name": "SciJava",
   "language": "groovy",
   "name": "scijava"
  },
  "language_info": {
   "codemirror_mode": "groovy",
   "file_extension": "",
   "mimetype": "",
   "name": "scijava",
   "nbconverter_exporter": "",
   "pygments_lexer": "groovy",
   "version": "1.0"
  }
 },
 "nbformat": 4,
 "nbformat_minor": 4
}
